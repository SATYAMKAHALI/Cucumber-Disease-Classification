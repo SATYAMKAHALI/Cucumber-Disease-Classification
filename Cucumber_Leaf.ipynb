{
  "nbformat": 4,
  "nbformat_minor": 0,
  "metadata": {
    "colab": {
      "provenance": []
    },
    "kernelspec": {
      "name": "python3",
      "display_name": "Python 3"
    },
    "language_info": {
      "name": "python"
    }
  },
  "cells": [
    {
      "cell_type": "markdown",
      "source": [
        "# Mounting the drive to connect the google drive with colab to save data from vanishing once the browser is closed."
      ],
      "metadata": {
        "id": "Ii9QVIEFnwwv"
      }
    },
    {
      "cell_type": "code",
      "execution_count": 1,
      "metadata": {
        "colab": {
          "base_uri": "https://localhost:8080/"
        },
        "id": "8nrgG4oGL1mZ",
        "outputId": "e5879f0d-a680-4d20-e915-490a8a6c26a9"
      },
      "outputs": [
        {
          "output_type": "stream",
          "name": "stdout",
          "text": [
            "Drive already mounted at /content/drive; to attempt to forcibly remount, call drive.mount(\"/content/drive\", force_remount=True).\n"
          ]
        }
      ],
      "source": [
        "from google.colab import drive\n",
        "drive.mount('/content/drive')"
      ]
    },
    {
      "cell_type": "code",
      "source": [
        "dataset_path = '/content/drive/MyDrive/KaggleDatasets/Cucumber Leaf disease dataset/cucumber_Leaf_Disease'"
      ],
      "metadata": {
        "id": "ZP1mR0qGHf1u"
      },
      "execution_count": 2,
      "outputs": []
    },
    {
      "cell_type": "markdown",
      "source": [
        "# The following codes were used as I faced a problem while running the cells again. Error was torch library was not found . For this I uninstalled torch and reinstalled it."
      ],
      "metadata": {
        "id": "-EYlrPJADeSE"
      }
    },
    {
      "cell_type": "code",
      "source": [
        "!pip uninstall -y torch torchvision torchaudio\n",
        "!pip install torch torchvision torchaudio\n"
      ],
      "metadata": {
        "collapsed": true,
        "id": "TeZd5w6vlgLs"
      },
      "execution_count": null,
      "outputs": []
    },
    {
      "cell_type": "markdown",
      "source": [
        "# Importing necessary libraries"
      ],
      "metadata": {
        "id": "jwN1Sp4boQ6q"
      }
    },
    {
      "cell_type": "code",
      "source": [
        "import torch\n",
        "import torchvision\n",
        "import torchvision.transforms as transforms\n",
        "from torch.utils.data import DataLoader, Dataset\n",
        "from torchvision import datasets\n",
        "from torchvision.datasets import ImageFolder\n",
        "import torchvision.models as models\n",
        "import torch.nn as nn\n",
        "import matplotlib.pyplot as plt\n",
        "import os\n"
      ],
      "metadata": {
        "id": "saKwYe9PaaLE"
      },
      "execution_count": 3,
      "outputs": []
    },
    {
      "cell_type": "markdown",
      "source": [
        "# Transforming , converting to tensor & normalizing the pixel values of images. This is done for reducing computational complexity.  "
      ],
      "metadata": {
        "id": "vY5FeRHyoXK9"
      }
    },
    {
      "cell_type": "code",
      "source": [
        "transform = transforms.Compose([\n",
        "    transforms.Resize((224,224)),  #Changes the dimensions of images to 224*224 as most of the predefined models(eg.,ResNet) have this requirement\n",
        "    transforms.ToTensor(),         #converts the 0 to 255 pixel value range to 0 to 1\n",
        "    transforms.Normalize([0.5,0.5,0.5],[0.5,0.5,0.5])   #Normalizes the pixel values having a mean of 0.5 (1st tuple ){0.5 is present 3 times for R,G,B channels} and std deviation of 0.5\n",
        "    ])\n",
        "\n",
        "# Load datasets\n",
        "train_dataset= datasets.ImageFolder(root=f'{dataset_path}/train', transform=transform)\n",
        "test_dataset= datasets.ImageFolder(root=f'{dataset_path}/test', transform=transform)\n",
        "\n",
        "# Create DataLoaders\n",
        "train_loader = DataLoader(train_dataset, batch_size=32, shuffle=True)\n",
        "test_loader = DataLoader(test_dataset, batch_size=32, shuffle=False)   #shuffle is made false here because We don't want to shuffle the test data"
      ],
      "metadata": {
        "id": "YhNLNXG0dhvU"
      },
      "execution_count": 5,
      "outputs": []
    },
    {
      "cell_type": "markdown",
      "source": [
        "# Verify Dataset & Classes"
      ],
      "metadata": {
        "id": "RaSYnR5DTTwe"
      }
    },
    {
      "cell_type": "code",
      "source": [
        "#Classes in the dataset\n",
        "print(train_dataset.classes)\n",
        "#number of samples in train and test sets\n",
        "print(f\"Train samples: {len(train_dataset)}\")\n",
        "print(f\"Test samples: {len(test_dataset)}\")"
      ],
      "metadata": {
        "colab": {
          "base_uri": "https://localhost:8080/"
        },
        "id": "R3DRJjplp3OZ",
        "outputId": "08200794-148d-4f64-c52b-d304ff609586"
      },
      "execution_count": 6,
      "outputs": [
        {
          "output_type": "stream",
          "name": "stdout",
          "text": [
            "['Downy_mildew', 'Healthy_leaves', 'Powdery_mildew']\n",
            "Train samples: 3713\n",
            "Test samples: 51\n"
          ]
        }
      ]
    },
    {
      "cell_type": "markdown",
      "source": [
        "# Creating the Model and it's architecture"
      ],
      "metadata": {
        "id": "LhxPhEGNUhew"
      }
    },
    {
      "cell_type": "code",
      "source": [
        "from torchvision.models import resnet18, ResNet18_Weights\n",
        "weights = ResNet18_Weights.DEFAULT    # Automatically picks the latest pretrained weights\n",
        "model = resnet18(weights=weights)\n",
        "\n",
        "model.fc = torch.nn.Linear(model.fc.in_features, 3)\n",
        "\n",
        "# Move model to GPU if available\n",
        "device = torch.device(\"cuda\" if torch.cuda.is_available() else \"cpu\")\n",
        "model = model.to(device)\n",
        "\n",
        "if device.type == 'cuda':\n",
        "    print(torch.cuda.get_device_name(0))\n"
      ],
      "metadata": {
        "id": "t0A3PtmQUgzr",
        "colab": {
          "base_uri": "https://localhost:8080/"
        },
        "outputId": "3cd6660a-d811-45ef-84ba-4fb9d094d998"
      },
      "execution_count": 7,
      "outputs": [
        {
          "output_type": "stream",
          "name": "stderr",
          "text": [
            "Downloading: \"https://download.pytorch.org/models/resnet18-f37072fd.pth\" to /root/.cache/torch/hub/checkpoints/resnet18-f37072fd.pth\n",
            "100%|██████████| 44.7M/44.7M [00:00<00:00, 78.8MB/s]\n"
          ]
        }
      ]
    },
    {
      "cell_type": "markdown",
      "source": [
        "# Adding Softmax function to output"
      ],
      "metadata": {
        "id": "6lrh4Nv5yy22"
      }
    },
    {
      "cell_type": "code",
      "source": [
        "# Example output from model\n",
        "output=torch.tensor([[2.0,1.0,0.1]])\n",
        "#applying softmax\n",
        "softmax = torch.nn.Softmax(dim=1)\n",
        "probabilities = softmax(output)\n",
        "print(probabilities)  #probabilities for each class"
      ],
      "metadata": {
        "colab": {
          "base_uri": "https://localhost:8080/"
        },
        "id": "P83cTJqox8qS",
        "outputId": "b8223f37-7ae8-4415-c14c-959e02a1494f"
      },
      "execution_count": 8,
      "outputs": [
        {
          "output_type": "stream",
          "name": "stdout",
          "text": [
            "tensor([[0.6590, 0.2424, 0.0986]])\n"
          ]
        }
      ]
    },
    {
      "cell_type": "markdown",
      "source": [
        "# Training the Model in batches and no . of epoch is taken 10"
      ],
      "metadata": {
        "id": "OLfc-fH33vow"
      }
    },
    {
      "cell_type": "code",
      "source": [
        "import torch.nn as nn\n",
        "import torch.optim as optim\n",
        "from tqdm import tqdm  # Import tqdm for progress bar\n",
        "\n",
        "criterion = nn.CrossEntropyLoss()\n",
        "optimizer = optim.Adam(model.parameters(), lr=0.001)\n",
        "\n",
        "# Training loop\n",
        "for epoch in range(10):  # 10 epochs\n",
        "    model.train()\n",
        "    running_loss = 0.0\n",
        "    # Wrap train_loader with tqdm for a progress bar\n",
        "    progress_bar = tqdm(train_loader, desc=f\"Epoch {epoch+1}/{10}\", unit=\"batch\")\n",
        "    for inputs, labels in progress_bar:\n",
        "        inputs, labels = inputs.to(device), labels.to(device)\n",
        "\n",
        "        # Zero the parameter gradients\n",
        "        optimizer.zero_grad()\n",
        "\n",
        "        # Forward pass for linear operation on dataset for prediction without optimization\n",
        "        outputs = model(inputs)\n",
        "        loss = criterion(outputs, labels)\n",
        "\n",
        "        # Backward pass for optimizing weights\n",
        "        loss.backward()\n",
        "        optimizer.step()\n",
        "\n",
        "        running_loss += loss.item()\n",
        "\n",
        "        # Update the progress bar with the current loss\n",
        "        progress_bar.set_postfix(loss=loss.item())\n",
        "\n",
        "    print(f\"Epoch {epoch+1}, Average Loss: {running_loss/len(train_loader)}\")\n"
      ],
      "metadata": {
        "colab": {
          "base_uri": "https://localhost:8080/"
        },
        "id": "Z420PZNDjsMl",
        "outputId": "7ce42278-1179-46a4-d257-2728911e2d40"
      },
      "execution_count": 9,
      "outputs": [
        {
          "metadata": {
            "tags": null
          },
          "name": "stderr",
          "output_type": "stream",
          "text": [
            "Epoch 1/10: 100%|██████████| 117/117 [26:32<00:00, 13.61s/batch, loss=0.996]\n"
          ]
        },
        {
          "metadata": {
            "tags": null
          },
          "name": "stdout",
          "output_type": "stream",
          "text": [
            "Epoch 1, Average Loss: 0.12923336113055842\n"
          ]
        },
        {
          "metadata": {
            "tags": null
          },
          "name": "stderr",
          "output_type": "stream",
          "text": [
            "Epoch 2/10: 100%|██████████| 117/117 [16:59<00:00,  8.71s/batch, loss=2.42]\n"
          ]
        },
        {
          "metadata": {
            "tags": null
          },
          "name": "stdout",
          "output_type": "stream",
          "text": [
            "Epoch 2, Average Loss: 0.0914241369210709\n"
          ]
        },
        {
          "output_type": "stream",
          "name": "stderr",
          "text": [
            "Epoch 3/10: 100%|██████████| 117/117 [16:45<00:00,  8.59s/batch, loss=6.18]\n"
          ]
        },
        {
          "output_type": "stream",
          "name": "stdout",
          "text": [
            "Epoch 3, Average Loss: 0.10704890647495134\n"
          ]
        },
        {
          "output_type": "stream",
          "name": "stderr",
          "text": [
            "Epoch 4/10: 100%|██████████| 117/117 [16:44<00:00,  8.58s/batch, loss=3.59]\n"
          ]
        },
        {
          "output_type": "stream",
          "name": "stdout",
          "text": [
            "Epoch 4, Average Loss: 0.06501768339842232\n"
          ]
        },
        {
          "output_type": "stream",
          "name": "stderr",
          "text": [
            "Epoch 5/10: 100%|██████████| 117/117 [16:45<00:00,  8.59s/batch, loss=0.00626]\n"
          ]
        },
        {
          "output_type": "stream",
          "name": "stdout",
          "text": [
            "Epoch 5, Average Loss: 0.027111200974462155\n"
          ]
        },
        {
          "output_type": "stream",
          "name": "stderr",
          "text": [
            "Epoch 6/10: 100%|██████████| 117/117 [16:43<00:00,  8.58s/batch, loss=0.00751]\n"
          ]
        },
        {
          "output_type": "stream",
          "name": "stdout",
          "text": [
            "Epoch 6, Average Loss: 0.015093560525776846\n"
          ]
        },
        {
          "output_type": "stream",
          "name": "stderr",
          "text": [
            "Epoch 7/10: 100%|██████████| 117/117 [16:47<00:00,  8.61s/batch, loss=5.63]\n"
          ]
        },
        {
          "output_type": "stream",
          "name": "stdout",
          "text": [
            "Epoch 7, Average Loss: 0.0692750595658137\n"
          ]
        },
        {
          "output_type": "stream",
          "name": "stderr",
          "text": [
            "Epoch 8/10: 100%|██████████| 117/117 [16:41<00:00,  8.56s/batch, loss=0.261]\n"
          ]
        },
        {
          "output_type": "stream",
          "name": "stdout",
          "text": [
            "Epoch 8, Average Loss: 0.06522749165574518\n"
          ]
        },
        {
          "output_type": "stream",
          "name": "stderr",
          "text": [
            "Epoch 9/10: 100%|██████████| 117/117 [16:40<00:00,  8.55s/batch, loss=5.88]\n"
          ]
        },
        {
          "output_type": "stream",
          "name": "stdout",
          "text": [
            "Epoch 9, Average Loss: 0.07695039798247899\n"
          ]
        },
        {
          "output_type": "stream",
          "name": "stderr",
          "text": [
            "Epoch 10/10: 100%|██████████| 117/117 [16:32<00:00,  8.48s/batch, loss=3.68]"
          ]
        },
        {
          "output_type": "stream",
          "name": "stdout",
          "text": [
            "Epoch 10, Average Loss: 0.047691369754099086\n"
          ]
        },
        {
          "output_type": "stream",
          "name": "stderr",
          "text": [
            "\n"
          ]
        }
      ]
    },
    {
      "cell_type": "markdown",
      "source": [
        "# Saving the model's learned weights in .pth format for easy deployment and portability"
      ],
      "metadata": {
        "id": "bAN5d7j0BKDA"
      }
    },
    {
      "cell_type": "code",
      "source": [
        "# Saving the model's state_dict(i.e., weights/parameters)\n",
        "torch.save(model.state_dict(), 'resnet18_CucumberLeaf.pth')\n"
      ],
      "metadata": {
        "id": "XP8QZpd65bkK"
      },
      "execution_count": 11,
      "outputs": []
    },
    {
      "cell_type": "code",
      "source": [
        "torch.save(model.state_dict(),'/content/drive/MyDrive/KaggleDatasets/Cucumber Leaf disease dataset/resnet18_CucumberLeaf.pth')"
      ],
      "metadata": {
        "id": "Ykpbdl-aCeAq"
      },
      "execution_count": 13,
      "outputs": []
    },
    {
      "cell_type": "markdown",
      "source": [
        "## Evaluating The Accuracy"
      ],
      "metadata": {
        "id": "qzTiuYCIBn6P"
      }
    },
    {
      "cell_type": "code",
      "source": [
        "model.eval()\n",
        "correct = 0\n",
        "total = 0\n",
        "\n",
        "with torch.no_grad():\n",
        "    for inputs, labels in test_loader:\n",
        "        inputs, labels = inputs.to(device), labels.to(device)\n",
        "        outputs = model(inputs)\n",
        "        _, predicted = torch.max(outputs, 1)\n",
        "        total += labels.size(0)\n",
        "        correct += (predicted == labels).sum().item()\n",
        "\n",
        "print(f\"Test Accuracy: {100 * correct / total:.2f}%\")\n"
      ],
      "metadata": {
        "colab": {
          "base_uri": "https://localhost:8080/"
        },
        "id": "LeqMu87s3Arl",
        "outputId": "0b0b4a47-8dc3-4780-e61e-3d4b90c4a62a"
      },
      "execution_count": 12,
      "outputs": [
        {
          "output_type": "stream",
          "name": "stdout",
          "text": [
            "Test Accuracy: 98.04%\n"
          ]
        }
      ]
    },
    {
      "cell_type": "markdown",
      "source": [
        "# Confusion Matrix(Leaf dataset)"
      ],
      "metadata": {
        "id": "O4EuRIm6nMMV"
      }
    },
    {
      "cell_type": "code",
      "source": [
        "import torch\n",
        "from sklearn.metrics import confusion_matrix\n",
        "import seaborn as sns\n",
        "\n",
        "#Class names of my outputs\n",
        "class_names = [\"Downy mildew\", \"Healthy\", \"Powdery mildew\"]\n",
        "\n",
        "#Function to get predictions and true labels for confusion matrix\n",
        "\n",
        "def get_predictions(model, test_loader):\n",
        "    true_labels = []\n",
        "    pred_labels = []\n",
        "\n",
        "    model.eval()\n",
        "    with torch.no_grad():\n",
        "        for inputs, labels in test_loader:\n",
        "            inputs, labels = inputs.to(device), labels.to(device)\n",
        "            outputs = model(inputs)\n",
        "            _, preds = torch.max(outputs, 1)\n",
        "            true_labels.extend(labels.cpu().numpy())  # Moving labels to CPU for plotting\n",
        "            pred_labels.extend(preds.cpu().numpy())\n",
        "\n",
        "    return true_labels, pred_labels\n",
        "\n",
        "# Get predictions from the test set\n",
        "true_labels, pred_labels = get_predictions(model, test_loader)\n",
        "\n",
        "# Confusion Matrix\n",
        "cm = confusion_matrix(true_labels, pred_labels)\n",
        "plt.figure(figsize=(8, 6))\n",
        "sns.heatmap(cm, annot=True, fmt='d', cmap='Greens', xticklabels=class_names, yticklabels=class_names)\n",
        "plt.xlabel('Predicted')\n",
        "plt.ylabel('True')\n",
        "plt.title('Confusion Matrix')\n",
        "plt.show()\n"
      ],
      "metadata": {
        "colab": {
          "base_uri": "https://localhost:8080/",
          "height": 564
        },
        "id": "UNe3p1qtnKtF",
        "outputId": "1e99675b-5edd-4b93-b371-97e178ee4688"
      },
      "execution_count": 15,
      "outputs": [
        {
          "output_type": "display_data",
          "data": {
            "text/plain": [
              "<Figure size 800x600 with 2 Axes>"
            ],
            "image/png": "[encoded data removed]"
          },
          "metadata": {}
        }
      ]
    }
  ]
}